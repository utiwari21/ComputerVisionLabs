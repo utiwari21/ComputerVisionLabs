{
  "cells": [
    {
      "cell_type": "markdown",
      "metadata": {
        "id": "view-in-github",
        "colab_type": "text"
      },
      "source": [
        "<a href=\"https://colab.research.google.com/github/utiwari21/ComputerVisionLabs/blob/main/lab_7_gradient_descent/lab_7_gradient_descent_student.ipynb\" target=\"_parent\"><img src=\"https://colab.research.google.com/assets/colab-badge.svg\" alt=\"Open In Colab\"/></a>"
      ]
    },
    {
      "cell_type": "markdown",
      "metadata": {
        "execution": {},
        "id": "zOmhkqOx9DiN"
      },
      "source": [
        "# Lab 7: Gradient Descent\n",
        "\n",
        "\n",
        "**By Neuromatch Academy** and adapted by Prof. Nils Murrugarra from Univ of Pittsburgh.\n",
        "\n",
        "__Content creators:__ Saeed Salehi, Vladimir Haltakov, Andrew Saxe\n",
        "\n",
        "__Content reviewers:__ Polina Turishcheva, Antoine De Comite, Kelson Shilling-Scrivo\n",
        "\n",
        "__Content editors:__ Anoop Kulkarni, Spiros Chavlis\n",
        "\n",
        "__Production editors:__ Khalid Almubarak, Gagana B, Spiros Chavlis"
      ]
    },
    {
      "cell_type": "markdown",
      "metadata": {
        "execution": {},
        "id": "yGLpCFyS9DiP"
      },
      "source": [
        "---\n",
        "# Setup\n",
        "\n",
        "This a GPU-Free tutorial!\n"
      ]
    },
    {
      "cell_type": "code",
      "execution_count": null,
      "metadata": {
        "cellView": "form",
        "execution": {},
        "id": "e4tHimqi9DiP",
        "colab": {
          "base_uri": "https://localhost:8080/"
        },
        "outputId": "1507c867-ceb1-4993-a4e2-a907bb10c4f6"
      },
      "outputs": [
        {
          "output_type": "stream",
          "name": "stdout",
          "text": [
            "  Preparing metadata (setup.py) ... \u001b[?25l\u001b[?25hdone\n",
            "  Preparing metadata (setup.py) ... \u001b[?25l\u001b[?25hdone\n",
            "\u001b[2K   \u001b[90m━━━━━━━━━━━━━━━━━━━━━━━━━━━━━━━━━━━━━━━━\u001b[0m \u001b[32m1.6/1.6 MB\u001b[0m \u001b[31m15.8 MB/s\u001b[0m eta \u001b[36m0:00:00\u001b[0m\n",
            "\u001b[?25h  Building wheel for vibecheck (setup.py) ... \u001b[?25l\u001b[?25hdone\n",
            "  Building wheel for datatops (setup.py) ... \u001b[?25l\u001b[?25hdone\n"
          ]
        }
      ],
      "source": [
        "# @title Install and import feedback gadget\n",
        "\n",
        "!pip3 install vibecheck datatops --quiet\n",
        "\n",
        "from vibecheck import DatatopsContentReviewContainer\n",
        "def content_review(notebook_section: str):\n",
        "    return DatatopsContentReviewContainer(\n",
        "        \"\",  # No text prompt\n",
        "        notebook_section,\n",
        "        {\n",
        "            \"url\": \"https://pmyvdlilci.execute-api.us-east-1.amazonaws.com/klab\",\n",
        "            \"name\": \"neuromatch_dl\",\n",
        "            \"user_key\": \"f379rz8y\",\n",
        "        },\n",
        "    ).render()\n",
        "\n",
        "\n",
        "feedback_prefix = \"W1D2_T1\""
      ]
    },
    {
      "cell_type": "code",
      "execution_count": null,
      "metadata": {
        "execution": {},
        "id": "Fm_4VBcl9DiP"
      },
      "outputs": [],
      "source": [
        "# Imports\n",
        "import torch\n",
        "import numpy as np\n",
        "from torch import nn\n",
        "from math import pi\n",
        "import matplotlib.pyplot as plt"
      ]
    },
    {
      "cell_type": "code",
      "execution_count": null,
      "metadata": {
        "execution": {},
        "id": "ckTW3wjD9DiQ"
      },
      "outputs": [],
      "source": [
        "# @title Figure settings\n",
        "import logging\n",
        "logging.getLogger('matplotlib.font_manager').disabled = True\n",
        "\n",
        "import ipywidgets as widgets  # Interactive display\n",
        "%config InlineBackend.figure_format = 'retina'\n",
        "plt.style.use(\"https://raw.githubusercontent.com/NeuromatchAcademy/content-creation/main/nma.mplstyle\")"
      ]
    },
    {
      "cell_type": "code",
      "execution_count": null,
      "metadata": {
        "execution": {},
        "id": "W8v3-eDM9DiQ"
      },
      "outputs": [],
      "source": [
        "# @title Plotting functions\n",
        "\n",
        "from mpl_toolkits.axes_grid1 import make_axes_locatable\n",
        "\n",
        "def ex3_plot(model, x, y, ep, lss):\n",
        "  \"\"\"\n",
        "  Plot training loss\n",
        "\n",
        "  Args:\n",
        "    model: nn.module\n",
        "      Model implementing regression\n",
        "    x: np.ndarray\n",
        "      Training Data\n",
        "    y: np.ndarray\n",
        "      Targets\n",
        "    ep: int\n",
        "      Number of epochs\n",
        "    lss: function\n",
        "      Loss function\n",
        "\n",
        "  Returns:\n",
        "    Nothing\n",
        "  \"\"\"\n",
        "  f, (ax1, ax2) = plt.subplots(1, 2, figsize=(12, 4))\n",
        "  ax1.set_title(\"Regression\")\n",
        "  ax1.plot(x, model(x).detach().numpy(), color='r', label='prediction')\n",
        "  ax1.scatter(x, y, c='c', label='targets')\n",
        "  ax1.set_xlabel('x')\n",
        "  ax1.set_ylabel('y')\n",
        "  ax1.legend()\n",
        "\n",
        "  ax2.set_title(\"Training loss\")\n",
        "  ax2.plot(np.linspace(1, epochs, epochs), losses, color='y')\n",
        "  ax2.set_xlabel(\"Epoch\")\n",
        "  ax2.set_ylabel(\"MSE\")\n",
        "\n",
        "  plt.show()\n",
        "\n",
        "\n",
        "def ex1_plot(fun_z, fun_dz):\n",
        "  \"\"\"\n",
        "  Plots the function and gradient vectors\n",
        "\n",
        "  Args:\n",
        "    fun_z: f.__name__\n",
        "      Function implementing sine function\n",
        "    fun_dz: f.__name__\n",
        "      Function implementing sine function as gradient vector\n",
        "\n",
        "  Returns:\n",
        "    Nothing\n",
        "  \"\"\"\n",
        "  x, y = np.arange(-3, 3.01, 0.02), np.arange(-3, 3.01, 0.02)\n",
        "  xx, yy = np.meshgrid(x, y, sparse=True)\n",
        "  zz = fun_z(xx, yy)\n",
        "  xg, yg = np.arange(-2.5, 2.6, 0.5), np.arange(-2.5, 2.6, 0.5)\n",
        "  xxg, yyg = np.meshgrid(xg, yg, sparse=True)\n",
        "  zxg, zyg = fun_dz(xxg, yyg)\n",
        "\n",
        "  plt.figure(figsize=(8, 7))\n",
        "  plt.title(\"Gradient vectors point towards steepest ascent\")\n",
        "  contplt = plt.contourf(x, y, zz, levels=20)\n",
        "  plt.quiver(xxg, yyg, zxg, zyg, scale=50, color='r', )\n",
        "  plt.xlabel('$x$')\n",
        "  plt.ylabel('$y$')\n",
        "  ax = plt.gca()\n",
        "  divider = make_axes_locatable(ax)\n",
        "  cax = divider.append_axes(\"right\", size=\"5%\", pad=0.05)\n",
        "  cbar = plt.colorbar(contplt, cax=cax)\n",
        "  cbar.set_label('$z = h(x, y)$')\n",
        "\n",
        "  plt.show()"
      ]
    },
    {
      "cell_type": "code",
      "execution_count": null,
      "metadata": {
        "execution": {},
        "id": "gj44Kirr9DiQ"
      },
      "outputs": [],
      "source": [
        "# @title Set random seed\n",
        "\n",
        "# @markdown Executing `set_seed(seed=seed)` you are setting the seed\n",
        "\n",
        "# For DL its critical to set the random seed so that students can have a\n",
        "# baseline to compare their results to expected results.\n",
        "# Read more here: https://pytorch.org/docs/stable/notes/randomness.html\n",
        "\n",
        "# Call `set_seed` function in the exercises to ensure reproducibility.\n",
        "import random\n",
        "import torch\n",
        "\n",
        "def set_seed(seed=None, seed_torch=True):\n",
        "  \"\"\"\n",
        "  Function that controls randomness. NumPy and random modules must be imported.\n",
        "\n",
        "  Args:\n",
        "    seed : Integer\n",
        "      A non-negative integer that defines the random state. Default is `None`.\n",
        "    seed_torch : Boolean\n",
        "      If `True` sets the random seed for pytorch tensors, so pytorch module\n",
        "      must be imported. Default is `True`.\n",
        "\n",
        "  Returns:\n",
        "    Nothing.\n",
        "  \"\"\"\n",
        "  if seed is None:\n",
        "    seed = np.random.choice(2 ** 32)\n",
        "  random.seed(seed)\n",
        "  np.random.seed(seed)\n",
        "  if seed_torch:\n",
        "    torch.manual_seed(seed)\n",
        "    torch.cuda.manual_seed_all(seed)\n",
        "    torch.cuda.manual_seed(seed)\n",
        "    torch.backends.cudnn.benchmark = False\n",
        "    torch.backends.cudnn.deterministic = True\n",
        "\n",
        "  print(f'Random seed {seed} has been set.')\n",
        "\n",
        "\n",
        "# In case that `DataLoader` is used\n",
        "def seed_worker(worker_id):\n",
        "  \"\"\"\n",
        "  DataLoader will reseed workers following randomness in\n",
        "  multi-process data loading algorithm.\n",
        "\n",
        "  Args:\n",
        "    worker_id: integer\n",
        "      ID of subprocess to seed. 0 means that\n",
        "      the data will be loaded in the main process\n",
        "      Refer: https://pytorch.org/docs/stable/data.html#data-loading-randomness for more details\n",
        "\n",
        "  Returns:\n",
        "    Nothing\n",
        "  \"\"\"\n",
        "  worker_seed = torch.initial_seed() % 2**32\n",
        "  np.random.seed(worker_seed)\n",
        "  random.seed(worker_seed)"
      ]
    },
    {
      "cell_type": "code",
      "execution_count": null,
      "metadata": {
        "execution": {},
        "id": "KJmr_BXm9DiQ"
      },
      "outputs": [],
      "source": [
        "# @title Set device (GPU or CPU). Execute `set_device()`\n",
        "# especially if torch modules used.\n",
        "\n",
        "# inform the user if the notebook uses GPU or CPU.\n",
        "\n",
        "def set_device():\n",
        "  \"\"\"\n",
        "  Set the device. CUDA if available, CPU otherwise\n",
        "\n",
        "  Args:\n",
        "    None\n",
        "\n",
        "  Returns:\n",
        "    Nothing\n",
        "  \"\"\"\n",
        "  device = \"cuda\" if torch.cuda.is_available() else \"cpu\"\n",
        "  if device != \"cuda\":\n",
        "    print(\"GPU is not enabled in this notebook. \\n\"\n",
        "          \"If you want to enable it, in the menu under `Runtime` -> \\n\"\n",
        "          \"`Hardware accelerator.` and select `GPU` from the dropdown menu\")\n",
        "  else:\n",
        "    print(\"GPU is enabled in this notebook. \\n\"\n",
        "          \"If you want to disable it, in the menu under `Runtime` -> \\n\"\n",
        "          \"`Hardware accelerator.` and select `None` from the dropdown menu\")\n",
        "\n",
        "  return device"
      ]
    },
    {
      "cell_type": "code",
      "execution_count": null,
      "metadata": {
        "execution": {},
        "id": "rP3-Iy5h9DiQ",
        "colab": {
          "base_uri": "https://localhost:8080/"
        },
        "outputId": "2169935c-4ea9-4b36-901c-a45265f0586c"
      },
      "outputs": [
        {
          "output_type": "stream",
          "name": "stdout",
          "text": [
            "Random seed 2021 has been set.\n",
            "GPU is not enabled in this notebook. \n",
            "If you want to enable it, in the menu under `Runtime` -> \n",
            "`Hardware accelerator.` and select `GPU` from the dropdown menu\n"
          ]
        }
      ],
      "source": [
        "SEED = 2021\n",
        "set_seed(seed=SEED)\n",
        "DEVICE = set_device()"
      ]
    },
    {
      "cell_type": "markdown",
      "metadata": {
        "execution": {},
        "id": "EA5c_eNC9DiQ"
      },
      "source": [
        "---\n",
        "# Section 0: Introduction"
      ]
    },
    {
      "cell_type": "markdown",
      "metadata": {
        "execution": {},
        "id": "9I6a6RZR9DiQ"
      },
      "source": [
        "Today, we will go through 2 tutorials.\n",
        "\n",
        "- The first tutorial will help us build a better intuition about neural networks and basic hyper-parameters.\n",
        "- Finally, in tutorial 2, we learn about the learning dynamics, what the (a good) deep network is learning, and why sometimes they may perform poorly."
      ]
    },
    {
      "cell_type": "markdown",
      "metadata": {
        "execution": {},
        "id": "Ce0CvAt09DiY"
      },
      "source": [
        "---\n",
        "# Section 1: PyTorch AutoGrad"
      ]
    },
    {
      "cell_type": "markdown",
      "metadata": {
        "execution": {},
        "id": "ZFFlbtZ79DiY"
      },
      "source": [
        "Deep learning frameworks such as PyTorch, JAX, and TensorFlow come with a very efficient and sophisticated set of algorithms, commonly known as Automatic Differentiation. AutoGrad is PyTorch's automatic differentiation engine. Here we start by covering the essentials of AutoGrad, and you will learn more in the coming days."
      ]
    },
    {
      "cell_type": "markdown",
      "metadata": {
        "execution": {},
        "id": "He4xiQno9DiY"
      },
      "source": [
        "## Section 1.1: Forward Propagation\n",
        "\n",
        "Everything starts with the forward propagation (pass). PyTorch tracks all the instructions, as we declare the variables and operations, and it builds the graph when we call the `.backward()` pass. PyTorch rebuilds the graph every time we iterate or change it (or simply put, PyTorch uses a dynamic graph).\n",
        "\n",
        "For gradient descent, it is only required to have the gradients of cost function with respect to the variables we wish to learn. These variables are often called \"learnable / trainable parameters\" or simply \"parameters\" in PyTorch. In neural nets, weights and biases are often the learnable parameters."
      ]
    },
    {
      "cell_type": "markdown",
      "metadata": {
        "execution": {},
        "id": "U44-NK3E9DiY"
      },
      "source": [
        "### Coding Exercise 1.1: Buiding a Computational Graph\n",
        "\n",
        "In PyTorch, to indicate that a certain tensor contains learnable parameters, we can set the optional argument `requires_grad` to `True`. PyTorch will then track every operation using this tensor while configuring the computational graph. For this exercise, use the provided tensors to build the following graph, which implements a single neuron with scalar input and output.\n",
        "\n",
        "<br>\n",
        "\n",
        "<center><img src=\"https://raw.githubusercontent.com/NeuromatchAcademy/course-content-dl/main/tutorials/W1D2_LinearDeepLearning/static/simple_graph.png\" alt=\"Simple nn graph\" width=\"600\"/></center>"
      ]
    },
    {
      "cell_type": "markdown",
      "metadata": {
        "execution": {},
        "id": "1l9iyY6v9DiY"
      },
      "source": [
        "```python\n",
        "class SimpleGraph:\n",
        "  \"\"\"\n",
        "  Implementing Simple Computational Graph\n",
        "  \"\"\"\n",
        "\n",
        "  def __init__(self, w, b):\n",
        "    \"\"\"\n",
        "    Initializing the SimpleGraph\n",
        "\n",
        "    Args:\n",
        "      w: float\n",
        "        Initial value for weight\n",
        "      b: float\n",
        "        Initial value for bias\n",
        "\n",
        "    Returns:\n",
        "      Nothing\n",
        "    \"\"\"\n",
        "    assert isinstance(w, float)\n",
        "    assert isinstance(b, float)\n",
        "    self.w = torch.tensor([w], requires_grad=True)\n",
        "    self.b = torch.tensor([b], requires_grad=True)\n",
        "\n",
        "  def forward(self, x):\n",
        "    \"\"\"\n",
        "    Forward pass\n",
        "\n",
        "    Args:\n",
        "      x: torch.Tensor\n",
        "        1D tensor of features\n",
        "\n",
        "    Returns:\n",
        "      prediction: torch.Tensor\n",
        "        Model predictions\n",
        "    \"\"\"\n",
        "    assert isinstance(x, torch.Tensor)\n",
        "    #################################################\n",
        "    ## Implement the the forward pass to calculate prediction\n",
        "    ## Note that prediction is not the loss, but the value after `tanh`\n",
        "    # Complete the function and remove or comment the line below\n",
        "    raise NotImplementedError(\"Forward Pass `forward`\")\n",
        "    #################################################\n",
        "    prediction = ...\n",
        "    return prediction\n",
        "\n",
        "\n",
        "def sq_loss(y_true, y_prediction):\n",
        "  \"\"\"\n",
        "  L2 loss function\n",
        "\n",
        "  Args:\n",
        "    y_true: torch.Tensor\n",
        "      1D tensor of target labels\n",
        "    y_prediction: torch.Tensor\n",
        "      1D tensor of predictions\n",
        "\n",
        "  Returns:\n",
        "    loss: torch.Tensor\n",
        "      L2-loss (squared error)\n",
        "  \"\"\"\n",
        "  assert isinstance(y_true, torch.Tensor)\n",
        "  assert isinstance(y_prediction, torch.Tensor)\n",
        "  #################################################\n",
        "  ## Implement the L2-loss (squred error) given true label and prediction\n",
        "  # Complete the function and remove or comment the line below\n",
        "  raise NotImplementedError(\"Loss function `sq_loss`\")\n",
        "  #################################################\n",
        "  loss = ...\n",
        "  return loss\n",
        "\n",
        "\n",
        "\n",
        "feature = torch.tensor([1])  # Input tensor\n",
        "target = torch.tensor([7])  # Target tensor\n",
        "## Uncomment to run\n",
        "# simple_graph = SimpleGraph(-0.5, 0.5)\n",
        "# print(f\"initial weight = {simple_graph.w.item()}, \"\n",
        "#       f\"\\ninitial bias = {simple_graph.b.item()}\")\n",
        "# prediction = simple_graph.forward(feature)\n",
        "# square_loss = sq_loss(target, prediction)\n",
        "# print(f\"for x={feature.item()} and y={target.item()}, \"\n",
        "#       f\"prediction={prediction.item()}, and L2 Loss = {square_loss.item()}\")\n",
        "\n",
        "```"
      ]
    },
    {
      "cell_type": "code",
      "metadata": {
        "execution": {},
        "id": "XnRc4s2a9DiY",
        "ExecuteTime": {
          "end_time": "2025-08-27T00:41:05.563451Z",
          "start_time": "2025-08-27T00:41:05.561143Z"
        }
      },
      "source": [
        "# TODO: Complete previous code"
      ],
      "outputs": [],
      "execution_count": null
    },
    {
      "cell_type": "markdown",
      "metadata": {
        "execution": {},
        "id": "p4Xmue_z9DiY"
      },
      "source": [
        "It is important to appreciate the fact that PyTorch can follow our operations as we arbitrarily go through classes and functions."
      ]
    },
    {
      "cell_type": "markdown",
      "metadata": {
        "execution": {},
        "id": "O0iI2Mt69DiY"
      },
      "source": [
        "## Section 1.2: Backward Propagation\n",
        "\n",
        "Here is where all the magic lies. In PyTorch, `Tensor` and `Function` are interconnected and build up an acyclic graph, that encodes a complete history of computation. Each variable has a `grad_fn` attribute that references a function that has created the Tensor (except for Tensors created by the user - these have `None` as `grad_fn`).  The example below shows that the tensor `c = a + b` is created by the `Add` operation and the gradient function is the object `<AddBackward...>`. Replace `+` with other single operations (e.g., `c = a * b` or `c = torch.sin(a)`) and examine the results."
      ]
    },
    {
      "cell_type": "code",
      "execution_count": null,
      "metadata": {
        "execution": {},
        "id": "JRaO3KkA9DiY",
        "colab": {
          "base_uri": "https://localhost:8080/"
        },
        "outputId": "cf60b93e-193e-469c-876d-56362964411b"
      },
      "outputs": [
        {
          "output_type": "stream",
          "name": "stdout",
          "text": [
            "Gradient function = <AddBackward0 object at 0x7d0ae70f94e0>\n"
          ]
        }
      ],
      "source": [
        "a = torch.tensor([1.0], requires_grad=True)\n",
        "b = torch.tensor([-1.0], requires_grad=True)\n",
        "c = a + b\n",
        "print(f'Gradient function = {c.grad_fn}')"
      ]
    },
    {
      "cell_type": "markdown",
      "metadata": {
        "execution": {},
        "id": "LhtwtYJT9DiY"
      },
      "source": [
        "For more complex functions, printing the `grad_fn` would only show the last operation, even though the object tracks all the operations up to that point:"
      ]
    },
    {
      "cell_type": "code",
      "execution_count": null,
      "metadata": {
        "execution": {},
        "id": "zEZcMuS09DiY",
        "colab": {
          "base_uri": "https://localhost:8080/"
        },
        "outputId": "ad98112e-47f7-4344-b27e-6b239cb41054"
      },
      "outputs": [
        {
          "output_type": "stream",
          "name": "stdout",
          "text": [
            "Gradient function for prediction = <TanhBackward0 object at 0x7d0ae70fa8c0>\n",
            "Gradient function for loss = <PowBackward0 object at 0x7d0ae70f8760>\n"
          ]
        }
      ],
      "source": [
        "# # Uncomment once Coding Exercise 1.1 is implemented\n",
        "# print(f'Gradient function for prediction = {prediction.grad_fn}')\n",
        "# print(f'Gradient function for loss = {square_loss.grad_fn}')"
      ]
    },
    {
      "cell_type": "markdown",
      "metadata": {
        "execution": {},
        "id": "jJW_KSnT9DiY"
      },
      "source": [
        "Now let's kick off the backward pass to calculate the gradients by calling `.backward()` on the tensor we wish to initiate the backpropagation from. Often, `.backward()` is called on the loss, which is the last node on the graph. Before doing that, let's calculate the loss gradients by hand:\n",
        "\n",
        "$$\\frac{\\partial{loss}}{\\partial{w}} = - 2 x (y_t - y_p)(1 - y_p^2)$$\n",
        "\n",
        "$$\\frac{\\partial{loss}}{\\partial{b}} = - 2 (y_t - y_p)(1 - y_p^2)$$\n",
        "\n",
        "Where $y_t$ is the target (true label), and $y_p$ is the prediction (model output). We can then compare it to PyTorch gradients, which can be obtained by calling `.grad` on the relevant tensors.\n",
        "\n",
        "**Important Notes:**\n",
        "* Learnable parameters (i.e. `requires_grad` tensors) are \"contagious\". Let's look at a simple example: `Y = W @ X`, where `X` is the feature tensors and `W` is the weight tensor (learnable parameters, `requires_grad`), the newly generated output tensor `Y` will be also `requires_grad`. So any operation that is applied to `Y` will be part of the computational graph. Therefore, if we need to plot or store a tensor that is `requires_grad`, we must first `.detach()` it from the graph by calling the `.detach()` method on that tensor.\n",
        "\n",
        "* `.backward()` accumulates gradients in the leaf nodes (i.e., the input nodes to the node of interest). We can call `.zero_grad()` on the loss or optimizer to zero out all `.grad` attributes (see [autograd.backward](https://pytorch.org/docs/stable/autograd.html#torch.autograd.backward) for more information).\n",
        "\n",
        "* Recall that in python we can access variables and associated methods with `.method_name`. You can use the command `dir(my_object)` to observe all variables and associated methods to your object, e.g., `dir(simple_graph.w)`."
      ]
    },
    {
      "cell_type": "code",
      "execution_count": null,
      "metadata": {
        "execution": {},
        "id": "Bypj6VO19DiY",
        "colab": {
          "base_uri": "https://localhost:8080/"
        },
        "outputId": "5d89793e-a1d0-4dfa-f76d-ae1eebb4a74a"
      },
      "outputs": [
        {
          "output_type": "stream",
          "name": "stdout",
          "text": [
            "tensor([True])\n",
            "tensor([True])\n"
          ]
        }
      ],
      "source": [
        "# # Uncomment once Coding Exercise 1.1 is implemented\n",
        "# # Analytical gradients (Remember detaching)\n",
        "# ana_dloss_dw = - 2 * feature * (target - prediction.detach())*(1 - prediction.detach()**2)\n",
        "# ana_dloss_db = - 2 * (target - prediction.detach())*(1 - prediction.detach()**2)\n",
        "\n",
        "# square_loss.backward()  # First we should call the backward to build the graph\n",
        "# autograd_dloss_dw = simple_graph.w.grad  # We calculate the derivative w.r.t weights\n",
        "# autograd_dloss_db = simple_graph.b.grad  # We calculate the derivative w.r.t bias\n",
        "\n",
        "# print(ana_dloss_dw == autograd_dloss_dw)\n",
        "# print(ana_dloss_db == autograd_dloss_db)"
      ]
    },
    {
      "cell_type": "markdown",
      "metadata": {
        "execution": {},
        "id": "CBwV9ZQC9DiY"
      },
      "source": [
        "### References and more\n",
        "\n",
        "* [A gentle introduction to torch.autograd](https://pytorch.org/tutorials/beginner/blitz/autograd_tutorial.html)\n",
        "\n",
        "* [Automatic Differentiation package - torch.autograd](https://pytorch.org/docs/stable/autograd.html)\n",
        "\n",
        "* [Autograd mechanics](https://pytorch.org/docs/stable/notes/autograd.html)\n",
        "\n",
        "* [Automatic Differentiation with torch.autograd](https://pytorch.org/tutorials/beginner/basics/autogradqs_tutorial.html)"
      ]
    },
    {
      "cell_type": "markdown",
      "metadata": {
        "execution": {},
        "id": "Xtour2IE9DiY"
      },
      "source": [
        "---\n",
        "# Section 2: PyTorch's Neural Net module (`nn.Module`)\n"
      ]
    },
    {
      "cell_type": "markdown",
      "metadata": {
        "execution": {},
        "id": "pv7U32wr9DiZ"
      },
      "source": [
        "PyTorch provides us with ready-to-use neural network building blocks, such as layers (e.g., linear, recurrent, etc.), different activation and loss functions, and much more, packed in the [`torch.nn`](https://pytorch.org/docs/stable/nn.html) module. If we build a neural network using `torch.nn` layers, the weights and biases are already in `requires_grad` mode and will be registered as model parameters.\n",
        "\n",
        "For training, we need three things:\n",
        "\n",
        "* **Model parameters:** Model parameters refer to all the learnable parameters of the model, which are accessible by calling `.parameters()` on the model. Please note that NOT all the `requires_grad` tensors are seen as model parameters. To create a custom model parameter, we can use [`nn.Parameter`](https://pytorch.org/docs/stable/generated/torch.nn.parameter.Parameter.html) (*A kind of Tensor that is to be considered a module parameter*).\n",
        "\n",
        "* **Loss function:** The loss that we are going to be optimizing, which is often combined with regularization terms (coming up in few days).\n",
        "\n",
        "* **Optimizer:** PyTorch provides us with many optimization methods (different versions of gradient descent). Optimizer holds the current state of the model and by calling the `step()` method, will update the parameters based on the computed gradients.\n",
        "\n",
        "You will learn more details about choosing the right model architecture, loss function, and optimizer later in the course."
      ]
    },
    {
      "cell_type": "markdown",
      "metadata": {
        "execution": {},
        "id": "DNEe2FAH9DiZ"
      },
      "source": [
        "## Section 2.1: Training loop in PyTorch\n",
        "\n",
        "We use a regression problem to study the training loop in PyTorch.\n",
        "\n",
        "The task is to train a wide nonlinear (using $\\tanh$ activation function) neural net for a simple $\\sin$ regression task. Wide neural networks are thought to be really good at generalization."
      ]
    },
    {
      "cell_type": "code",
      "execution_count": null,
      "metadata": {
        "execution": {},
        "id": "jydMQ4-39DiZ",
        "colab": {
          "base_uri": "https://localhost:8080/",
          "height": 510
        },
        "outputId": "e165d5ed-84d4-48be-812e-f7fbf2dce3a8"
      },
      "outputs": [
        {
          "output_type": "stream",
          "name": "stdout",
          "text": [
            "Random seed 2021 has been set.\n"
          ]
        },
        {
          "output_type": "display_data",
          "data": {
            "text/plain": [
              "<Figure size 800x500 with 1 Axes>"
            ],
            "image/png": "[encoded data removed]"
          },
          "metadata": {
            "image/png": {
              "width": 775,
              "height": 475
            }
          }
        }
      ],
      "source": [
        "# @markdown #### Generate the sample dataset\n",
        "set_seed(seed=SEED)\n",
        "n_samples = 32\n",
        "inputs = torch.linspace(-1.0, 1.0, n_samples).reshape(n_samples, 1)\n",
        "noise = torch.randn(n_samples, 1) / 4\n",
        "targets = torch.sin(pi * inputs) + noise\n",
        "plt.figure(figsize=(8, 5))\n",
        "plt.scatter(inputs, targets, c='c')\n",
        "plt.xlabel('x (inputs)')\n",
        "plt.ylabel('y (targets)')\n",
        "plt.show()"
      ]
    },
    {
      "cell_type": "markdown",
      "metadata": {
        "execution": {},
        "id": "KLDIFpf09DiZ"
      },
      "source": [
        "Let's define a very wide (512 neurons) neural net with one hidden layer and `nn.Tanh()` activation function."
      ]
    },
    {
      "cell_type": "code",
      "execution_count": null,
      "metadata": {
        "execution": {},
        "id": "vXh1WY5n9DiZ"
      },
      "outputs": [],
      "source": [
        "class WideNet(nn.Module):\n",
        "  \"\"\"\n",
        "   A Wide neural network with a single hidden layer\n",
        "   Structure is as follows:\n",
        "   nn.Sequential(\n",
        "        nn.Linear(1, n_cells) + nn.Tanh(), # Fully connected layer with tanh activation\n",
        "        nn.Linear(n_cells, 1) # Final fully connected layer\n",
        "    )\n",
        "  \"\"\"\n",
        "\n",
        "  def __init__(self):\n",
        "    \"\"\"\n",
        "    Initializing the parameters of WideNet\n",
        "\n",
        "    Args:\n",
        "      None\n",
        "\n",
        "    Returns:\n",
        "      Nothing\n",
        "    \"\"\"\n",
        "    n_cells = 512\n",
        "    super().__init__()\n",
        "    self.layers = nn.Sequential(\n",
        "        nn.Linear(1, n_cells),\n",
        "        nn.Tanh(),\n",
        "        nn.Linear(n_cells, 1),\n",
        "    )\n",
        "\n",
        "  def forward(self, x):\n",
        "    \"\"\"\n",
        "    Forward pass of WideNet\n",
        "\n",
        "    Args:\n",
        "      x: torch.Tensor\n",
        "        2D tensor of features\n",
        "\n",
        "    Returns:\n",
        "      Torch tensor of model predictions\n",
        "    \"\"\"\n",
        "    return self.layers(x)"
      ]
    },
    {
      "cell_type": "markdown",
      "metadata": {
        "execution": {},
        "id": "YlVHnRZ09DiZ"
      },
      "source": [
        "We can now create an instance of our neural net and print its parameters."
      ]
    },
    {
      "cell_type": "code",
      "execution_count": null,
      "metadata": {
        "execution": {},
        "id": "q5KJWqTT9DiZ",
        "colab": {
          "base_uri": "https://localhost:8080/"
        },
        "outputId": "c01a1088-c481-461a-9781-9b758c609109"
      },
      "outputs": [
        {
          "output_type": "stream",
          "name": "stdout",
          "text": [
            "Random seed 2021 has been set.\n",
            "WideNet(\n",
            "  (layers): Sequential(\n",
            "    (0): Linear(in_features=1, out_features=512, bias=True)\n",
            "    (1): Tanh()\n",
            "    (2): Linear(in_features=512, out_features=1, bias=True)\n",
            "  )\n",
            ")\n"
          ]
        }
      ],
      "source": [
        "# Creating an instance\n",
        "set_seed(seed=SEED)\n",
        "wide_net = WideNet()\n",
        "print(wide_net)"
      ]
    },
    {
      "cell_type": "code",
      "execution_count": null,
      "metadata": {
        "execution": {},
        "id": "l94-3bIk9DiZ"
      },
      "outputs": [],
      "source": [
        "# Create a mean square error loss function\n",
        "loss_function = nn.MSELoss()\n",
        "\n",
        "# Stochstic Gradient Descent optimizer (you will learn about momentum soon)\n",
        "lr = 0.003  # Learning rate\n",
        "sgd_optimizer = torch.optim.SGD(wide_net.parameters(), lr=lr, momentum=0.9)"
      ]
    },
    {
      "cell_type": "markdown",
      "metadata": {
        "execution": {},
        "id": "_k5dYvg29DiZ"
      },
      "source": [
        "The training process in PyTorch is interactive - you can perform training iterations as you wish and inspect the results after each iteration.\n",
        "\n",
        "Let's perform one training iteration. You can run the cell multiple times and see how the parameters are being updated and the loss is reducing. This code block is the core of everything to come: please make sure you go line-by-line through all the commands and discuss their purpose with your pod."
      ]
    },
    {
      "cell_type": "code",
      "execution_count": null,
      "metadata": {
        "execution": {},
        "id": "ESOYwHRP9DiZ",
        "colab": {
          "base_uri": "https://localhost:8080/"
        },
        "outputId": "29125433-ea27-437f-e1f3-12b6c9a763b9"
      },
      "outputs": [
        {
          "output_type": "stream",
          "name": "stdout",
          "text": [
            "Loss: 0.8889423608779907\n"
          ]
        }
      ],
      "source": [
        "# Reset all gradients to zero\n",
        "sgd_optimizer.zero_grad()\n",
        "\n",
        "# Forward pass (Compute the output of the model on the features (inputs))\n",
        "prediction = wide_net(inputs)\n",
        "\n",
        "# Compute the loss\n",
        "loss = loss_function(prediction, targets)\n",
        "print(f'Loss: {loss.item()}')\n",
        "\n",
        "# Perform backpropagation to build the graph and compute the gradients\n",
        "loss.backward()\n",
        "\n",
        "# Optimizer takes a tiny step in the steepest direction (negative of gradient)\n",
        "# and \"updates\" the weights and biases of the network\n",
        "sgd_optimizer.step()"
      ]
    },
    {
      "cell_type": "markdown",
      "metadata": {
        "execution": {},
        "id": "J_BDfO3F9DiZ"
      },
      "source": [
        "### Coding Exercise 2.1: Training Loop\n",
        "\n",
        "Using everything we've learned so far, we ask you to complete the `train` function below."
      ]
    },
    {
      "metadata": {
        "id": "TTbi_k_pDTuC"
      },
      "cell_type": "markdown",
      "source": [
        "```python\n",
        "def train(features, labels, model, loss_fun, optimizer, n_epochs):\n",
        "  \"\"\"\n",
        "  Training function\n",
        "\n",
        "  Args:\n",
        "    features: torch.Tensor\n",
        "      Features (input) with shape torch.Size([n_samples, 1])\n",
        "    labels: torch.Tensor\n",
        "      Labels (targets) with shape torch.Size([n_samples, 1])\n",
        "    model: torch nn.Module\n",
        "      The neural network\n",
        "    loss_fun: function\n",
        "      Loss function\n",
        "    optimizer: function\n",
        "      Optimizer\n",
        "    n_epochs: int\n",
        "      Number of training iterations\n",
        "\n",
        "  Returns:\n",
        "    loss_record: list\n",
        "      Record (evolution) of training losses\n",
        "  \"\"\"\n",
        "  loss_record = []  # Keeping recods of loss\n",
        "\n",
        "  for i in range(n_epochs):\n",
        "    #################################################\n",
        "    ## Implement the missing parts of the training loop\n",
        "    # Complete the function and remove or comment the line below\n",
        "    raise NotImplementedError(\"Training loop `train`\")\n",
        "    #################################################\n",
        "    ...  # Set gradients to 0\n",
        "    optimizer.zero_grad()\n",
        "  \n",
        "    predictions = model # Compute model prediction (output)\n",
        "    loss = loss_fun(predictions, labels) # Compute the loss\n",
        "    loss.backward()  # Compute gradients (backward pass)\n",
        "    optimizer.step() # Update parameters (optimizer takes a step)\n",
        "\n",
        "    loss_record.append(loss.item())\n",
        "  return loss_record\n",
        "\n",
        "\n",
        "\n",
        "set_seed(seed=2021)\n",
        "epochs = 1847 # Cauchy, Exercices d'analyse et de physique mathematique (1847)\n",
        "## Uncomment to run\n",
        "# losses = train(inputs, targets, wide_net, loss_function, sgd_optimizer, epochs)\n",
        "# ex3_plot(wide_net, inputs, targets, epochs, losses)\n",
        "\n",
        "```"
      ]
    },
    {
      "metadata": {
        "id": "8rT2o2shDTuC"
      },
      "cell_type": "markdown",
      "source": [
        "# Activity 7\n",
        "Please, develop the previous exercise, generate the regression plot. Finally, submit your result on [AhaSlides](https://ahaslides.com/KN212)."
      ]
    },
    {
      "metadata": {
        "execution": {},
        "id": "Sp8eNYPe9DiZ",
        "ExecuteTime": {
          "end_time": "2025-08-27T00:42:44.079458Z",
          "start_time": "2025-08-27T00:42:44.077637Z"
        }
      },
      "cell_type": "code",
      "source": [
        "# TODO: Complete previous code"
      ],
      "outputs": [],
      "execution_count": null
    },
    {
      "cell_type": "markdown",
      "source": [
        "# Acknowledgement\n",
        "Material is based on [Neuromatch](https://github.com/NeuromatchAcademy/course-content-dl/tree/main/tutorials)"
      ],
      "metadata": {
        "id": "sYBctcCEExi4"
      }
    }
  ],
  "metadata": {
    "colab": {
      "provenance": [],
      "toc_visible": true,
      "collapsed_sections": [
        "yGLpCFyS9DiP",
        "Ce0CvAt09DiY",
        "He4xiQno9DiY",
        "U44-NK3E9DiY",
        "Xtour2IE9DiY",
        "DNEe2FAH9DiZ"
      ],
      "include_colab_link": true
    },
    "kernel": {
      "display_name": "Python 3",
      "language": "python",
      "name": "python3"
    },
    "kernelspec": {
      "display_name": "Python 3 (ipykernel)",
      "name": "python3",
      "language": "python"
    },
    "language_info": {
      "codemirror_mode": {
        "name": "ipython",
        "version": 3
      },
      "file_extension": ".py",
      "mimetype": "text/x-python",
      "name": "python",
      "nbconvert_exporter": "python",
      "pygments_lexer": "ipython3",
      "version": "3.7.11"
    }
  },
  "nbformat": 4,
  "nbformat_minor": 0
}